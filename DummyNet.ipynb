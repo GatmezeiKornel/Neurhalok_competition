{
 "cells": [
  {
   "cell_type": "code",
   "execution_count": 3,
   "id": "d4639e88",
   "metadata": {},
   "outputs": [],
   "source": [
    "import torch\n",
    "from torch.utils.data import DataLoader\n",
    "from torchvision.transforms import transforms\n",
    "from torchvision.datasets import ImageFolder\n",
    "from torch.optim import Adam\n",
    "import torch.nn as nn"
   ]
  },
  {
   "cell_type": "markdown",
   "id": "f341b640",
   "metadata": {},
   "source": [
    "# Preprocess"
   ]
  },
  {
   "cell_type": "code",
   "execution_count": 6,
   "id": "e677c71a",
   "metadata": {},
   "outputs": [],
   "source": [
    "transformer = transforms.Compose([\n",
    "    transforms.ToTensor(),\n",
    "    transforms.Normalize([0.5, 0.5, 0.5],\n",
    "                         [0.5, 0.5, 0.5]\n",
    "                        )\n",
    "])"
   ]
  },
  {
   "cell_type": "markdown",
   "id": "83691b72",
   "metadata": {},
   "source": [
    "# Dataloader"
   ]
  },
  {
   "cell_type": "code",
   "execution_count": 9,
   "id": "572c5ab5",
   "metadata": {},
   "outputs": [],
   "source": [
    "trainPath=\"c:\\\\Users\\\\admin\\\\Documents\\\\PPKE-ITK\\\\7_szemeszter\\\\Neurhalok\\\\Neurhalok_competition\\\\ppke-itk-neural-networks-2022-challenge\\\\db_chlorella_renamed_TRAIN_merged\""
   ]
  },
  {
   "cell_type": "code",
   "execution_count": 10,
   "id": "7b90908b",
   "metadata": {},
   "outputs": [],
   "source": [
    "train = DataLoader(ImageFolder(trainPath, transformer), shuffle=True)"
   ]
  },
  {
   "cell_type": "markdown",
   "id": "2cdc7933",
   "metadata": {},
   "source": [
    "# Network"
   ]
  },
  {
   "cell_type": "code",
   "execution_count": 60,
   "id": "ee93107f",
   "metadata": {},
   "outputs": [],
   "source": [
    "class DummyNet(nn.Module):\n",
    "    def __init__(self, classes=8):\n",
    "        super(DummyNet,self).__init__()\n",
    "        \n",
    "        self.conv = nn.Conv2d(in_channels=3, out_channels=8, kernel_size=3)\n",
    "        self.batch= nn.BatchNorm2d(num_features=8)\n",
    "        self.leaky= nn.LeakyReLU()\n",
    "        self.lin1=nn.Linear(in_features=127008, out_features=16)\n",
    "        self.lin2=nn.Linear(in_features=16, out_features=8)\n",
    "        self.flat=nn.Flatten()\n",
    "\n",
    "    def forward(self, input):\n",
    "        output = self.conv(input)\n",
    "        output = self.batch(output)\n",
    "        output = self.leaky(output)\n",
    "        \n",
    "        output = self.flat(output)\n",
    "        output = self.lin1(output)\n",
    "        output = self.lin2(output)\n",
    "        \n",
    "        return output\n"
   ]
  },
  {
   "cell_type": "code",
   "execution_count": 61,
   "id": "c588a57a",
   "metadata": {},
   "outputs": [],
   "source": [
    "device = torch.device('cpu')\n",
    "model = DummyNet(8).to(device)\n",
    "lossfn = nn.CrossEntropyLoss()\n",
    "optimizer = Adam(model.parameters(), lr=0.001)"
   ]
  },
  {
   "cell_type": "code",
   "execution_count": 67,
   "id": "59e6749d",
   "metadata": {},
   "outputs": [],
   "source": [
    "epoch_num = 2"
   ]
  },
  {
   "cell_type": "markdown",
   "id": "0c126ac8",
   "metadata": {},
   "source": [
    "# Train"
   ]
  },
  {
   "cell_type": "code",
   "execution_count": 68,
   "id": "d90288e4",
   "metadata": {},
   "outputs": [
    {
     "name": "stdout",
     "output_type": "stream",
     "text": [
      "epoch done:  0  loss:  tensor(0.5027)\n",
      "epoch done:  1  loss:  tensor(0.1184)\n"
     ]
    }
   ],
   "source": [
    "for epoch in range(epoch_num):\n",
    "    model.train()\n",
    "    train_loss = 0.0\n",
    "    for i, (images, label) in enumerate(train):\n",
    "        optimizer.zero_grad()\n",
    "        output = model(images)\n",
    "        loss = lossfn(output,label)\n",
    "        loss.backward()\n",
    "        optimizer.step()\n",
    "        train_loss += loss.cpu().data * images.size(0)\n",
    "    train_loss=train_loss/ len(train.dataset)\n",
    "    \n",
    "    print(\"epoch done: \",epoch,\" loss: \",train_loss.item())"
   ]
  },
  {
   "cell_type": "markdown",
   "id": "06da9d1f",
   "metadata": {},
   "source": [
    "\n",
    "# Eval"
   ]
  },
  {
   "cell_type": "code",
   "execution_count": 71,
   "id": "c5c8d17a",
   "metadata": {},
   "outputs": [
    {
     "name": "stdout",
     "output_type": "stream",
     "text": [
      "valid_loss: 0.6228397488594055\n"
     ]
    }
   ],
   "source": [
    "valid_loss= 0.0\n",
    "for i, (images, label) in enumerate(train):\n",
    "    model.eval()\n",
    "    output = model(images)\n",
    "    loss = lossfn(output,label)\n",
    "    valid_loss += loss.cpu().data * images.size(0)\n",
    "valid_loss=valid_loss/len(train.dataset)\n",
    "print(f\"valid_loss: {valid_loss.item()}\")"
   ]
  }
 ],
 "metadata": {
  "kernelspec": {
   "display_name": "Python 3 (ipykernel)",
   "language": "python",
   "name": "python3"
  },
  "language_info": {
   "codemirror_mode": {
    "name": "ipython",
    "version": 3
   },
   "file_extension": ".py",
   "mimetype": "text/x-python",
   "name": "python",
   "nbconvert_exporter": "python",
   "pygments_lexer": "ipython3",
   "version": "3.10.8"
  }
 },
 "nbformat": 4,
 "nbformat_minor": 5
}
